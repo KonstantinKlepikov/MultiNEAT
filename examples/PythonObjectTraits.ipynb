{
 "cells": [
  {
   "cell_type": "code",
   "execution_count": null,
   "metadata": {},
   "outputs": [],
   "source": [
    "%pylab inline \n",
    "\n",
    "import os\n",
    "import sys\n",
    "import time\n",
    "import cv2\n",
    "import uuid\n",
    "import random as rnd\n",
    "\n",
    "import MultiNEAT as NEAT\n",
    "from MultiNEAT.viz import Draw\n",
    "from MultiNEAT import viz\n",
    "import pickle"
   ]
  },
  {
   "cell_type": "code",
   "execution_count": null,
   "metadata": {},
   "outputs": [],
   "source": []
  },
  {
   "cell_type": "code",
   "execution_count": null,
   "metadata": {},
   "outputs": [],
   "source": [
    "generations = 1000000\n",
    "max_evaluations = 150000\n",
    "\n",
    "generational_mode = 0\n",
    "\n",
    "fs_neat = 0"
   ]
  },
  {
   "cell_type": "code",
   "execution_count": null,
   "metadata": {},
   "outputs": [],
   "source": []
  },
  {
   "cell_type": "code",
   "execution_count": null,
   "metadata": {},
   "outputs": [],
   "source": [
    "rng = NEAT.RNG()\n",
    "rng.TimeSeed()\n",
    "\n",
    "params = NEAT.Parameters()\n",
    "params.PopulationSize = 100\n",
    "params.DynamicCompatibility = False\n",
    "params.DisjointCoeff = 8.0\n",
    "params.ExcessCoeff = 8.0\n",
    "params.WeightDiffCoeff = 0.0\n",
    "params.CompatTreshold = 1200000.5\n",
    "params.YoungAgeTreshold = 15\n",
    "params.SpeciesMaxStagnation = 15\n",
    "params.OldAgeTreshold = 50\n",
    "params.MinSpecies = 1\n",
    "params.MaxSpecies = 10\n",
    "params.RouletteWheelSelection = False\n",
    "params.Elitism = True\n",
    "params.RecurrentProb = 0.2\n",
    "params.OverallMutationRate = 0.5\n",
    "params.NormalizeGenomeSize = True\n",
    "\n",
    "params.MutateWeightsProb = 0.0\n",
    "params.MutateNeuronTimeConstantsProb = 0.0\n",
    "params.MutateNeuronBiasesProb = 0.0\n",
    "\n",
    "params.MutateAddNeuronProb = 0.0\n",
    "params.MutateAddLinkProb = 0.0\n",
    "params.MutateRemLinkProb = 0.0\n",
    "\n",
    "params.CrossoverRate = 0.5\n",
    "params.MultipointCrossoverRate = 0.5\n",
    "params.SurvivalRate = 0.05\n",
    "\n",
    "params.MutateNeuronTraitsProb = 0\n",
    "params.MutateLinkTraitsProb = 0.0\n",
    "params.MutateGenomeTraitsProb = 0.2\n",
    "\n",
    "params.ArchiveEnforcement = False\n",
    "params.AllowClones = True\n",
    "params.AllowLoops = True"
   ]
  },
  {
   "cell_type": "code",
   "execution_count": null,
   "metadata": {},
   "outputs": [],
   "source": []
  },
  {
   "cell_type": "code",
   "execution_count": null,
   "metadata": {},
   "outputs": [],
   "source": [
    "# load the target picture\n",
    "target_img = cv2.imread('smiley.jpg')\n",
    "target_img = cv2.resize(target_img, (100,100)) / 255\n",
    "target_img = (target_img[:, :, 0] + target_img[:, :, 1] + target_img[:, :, 2])/3\n",
    "imshow(target_img); print(target_img.shape)"
   ]
  },
  {
   "cell_type": "code",
   "execution_count": null,
   "metadata": {},
   "outputs": [],
   "source": []
  },
  {
   "cell_type": "code",
   "execution_count": null,
   "metadata": {},
   "outputs": [],
   "source": [
    "# This defines the custom trait\n",
    "class MyObj:\n",
    "    def __init__(self):\n",
    "        #print('initialized')\n",
    "        self.x = randn(100,100)\n",
    "        \n",
    "    def mate(self, other):\n",
    "        baby = MyObj()\n",
    "        baby.x = (self.x + other.x)/2\n",
    "        #print('mated')\n",
    "        return baby\n",
    "    \n",
    "    def mutate(self):\n",
    "        baby = MyObj()\n",
    "        baby.x = self.x + randn(100,100)/50\n",
    "        #print('mutated')\n",
    "        return baby\n",
    "    \n",
    "    def distance_to(self, other):\n",
    "        #print('distance calculated')\n",
    "        return np.sqrt(np.sum((self.x - other.x)**2))\n",
    "\n",
    "trait1 = {'details': MyObj,\n",
    "      'importance_coeff': 1.0,\n",
    "      'mutation_prob': 0.2,\n",
    "      'type': 'pyobject'}\n",
    "\n",
    "params.SetGenomeTraitParameters('x', trait1)"
   ]
  },
  {
   "cell_type": "code",
   "execution_count": null,
   "metadata": {},
   "outputs": [],
   "source": []
  },
  {
   "cell_type": "code",
   "execution_count": null,
   "metadata": {},
   "outputs": [],
   "source": [
    "def evaluate_genome(genome):\n",
    "    # fitness is the inverse distance to the picture\n",
    "    gimg = genome.GetGenomeTraits()['x'].x\n",
    "    ds = 1000 - np.mean((target_img - gimg)**2)\n",
    "    return ds"
   ]
  },
  {
   "cell_type": "code",
   "execution_count": null,
   "metadata": {},
   "outputs": [],
   "source": []
  },
  {
   "cell_type": "code",
   "execution_count": null,
   "metadata": {},
   "outputs": [],
   "source": [
    "run_name = str(uuid.uuid4()).replace('-', '')[0:16]\n",
    "\n",
    "g = NEAT.Genome(0, 1, 1, 1,\n",
    "                fs_neat, NEAT.ActivationFunction.UNSIGNED_SIGMOID,\n",
    "                NEAT.ActivationFunction.UNSIGNED_SIGMOID, 0, params, 0)\n",
    "\n",
    "print('Inputs:', g.NumInputs(), 'Outputs:', g.NumOutputs(), 'Links:', len(g.LinkGenes))\n",
    "\n",
    "pop = NEAT.Population(g, params, True, 1.0, rnd.randint(0, 1000))\n",
    "hof = []\n",
    "evhist = []\n",
    "best_gs = []\n",
    "maxf_ever = 0\n",
    "best_ever = 0"
   ]
  },
  {
   "cell_type": "code",
   "execution_count": null,
   "metadata": {},
   "outputs": [],
   "source": [
    "# generational mode\n",
    "if generational_mode:\n",
    "\n",
    "    try:\n",
    "        for g in range(generations):\n",
    "            print('Generation:', g, 'Species:', len(pop.Species), 'Best ever:', best_ever)\n",
    "            fitnesses = []\n",
    "            for i, genome in enumerate(NEAT.GetGenomeList(pop)):\n",
    "                fitness = evaluate_genome(genome)\n",
    "                fitnesses.append(fitness)\n",
    "            for genome, fitness in zip(NEAT.GetGenomeList(pop), fitnesses):\n",
    "                genome.SetFitness(fitness)\n",
    "                genome.SetEvaluated()\n",
    "\n",
    "            best = max(fitnesses)\n",
    "            evhist.append(best)\n",
    "            if best > best_ever:\n",
    "                #print('NEW RECORD! #', len(hof))\n",
    "                #print('Fitness:', best)\n",
    "                best_gs.append(pop.GetBestGenome())\n",
    "                best_ever = best\n",
    "                hof.append(pickle.dumps(pop.GetBestGenome()))\n",
    "                \n",
    "                if len(hof) % 100 == 0:\n",
    "                    ass = pop.GetBestGenome()\n",
    "                    plt.imshow(ass.GetGenomeTraits()['x'].x)\n",
    "                    plt.show()\n",
    "\n",
    "            pop.Epoch()\n",
    "\n",
    "    except KeyboardInterrupt:\n",
    "        sys.stdout.flush()\n",
    "\n",
    "else:\n",
    "\n",
    "    try:\n",
    "\n",
    "        print('============================================================')\n",
    "        print(\"Please wait for the initial evaluation to complete.\")\n",
    "        fitnesses = []\n",
    "        for _, genome in enumerate(NEAT.GetGenomeList(pop)):\n",
    "            fitness = evaluate_genome(genome)\n",
    "            fitnesses.append(fitness)\n",
    "        for genome, fitness in zip(NEAT.GetGenomeList(pop), fitnesses):\n",
    "            genome.SetFitness(fitness)\n",
    "            genome.SetEvaluated()\n",
    "        maxf = max([x.GetFitness() for x in NEAT.GetGenomeList(pop)])\n",
    "\n",
    "        print('======================')\n",
    "        print('rtNEAT phase')\n",
    "        for i in range(max_evaluations):\n",
    "            # get best fitness in population and print it\n",
    "            fitness_list = [x.GetFitness() for x in NEAT.GetGenomeList(pop)]\n",
    "            best = max(fitness_list)\n",
    "            evhist.append(best)\n",
    "            if best > best_ever:\n",
    "                sys.stdout.flush()\n",
    "                #print()\n",
    "                #print('NEW RECORD! #', len(hof))\n",
    "                #print('Evaluations:', i, 'Species:', len(pop.Species), 'Fitness:', best)\n",
    "                best_gs.append(pop.GetBestGenome())\n",
    "                best_ever = best\n",
    "                hof.append(pickle.dumps(pop.GetBestGenome()))\n",
    "                \n",
    "                pickle.dump(pop.GetBestGenome(), open('genomes/'+run_name+str(len(hof)), 'wb'))\n",
    "                #print('Saved genome', 'genomes/'+run_name+str(len(hof)))\n",
    "                \n",
    "                if len(hof) % 500 == 0:\n",
    "                    ass = pop.GetBestGenome()\n",
    "                    plt.imshow(ass.GetGenomeTraits()['x'].x)\n",
    "                    plt.show()\n",
    "                \n",
    "\n",
    "            # get the new baby\n",
    "            old = NEAT.Genome()\n",
    "            baby = pop.Tick(old)\n",
    "\n",
    "\n",
    "            # evaluate it\n",
    "            f = evaluate_genome(baby)\n",
    "            baby.SetFitness(f)\n",
    "            baby.SetEvaluated()\n",
    "            \n",
    "        sys.stdout.flush()\n",
    "        \n",
    "    except KeyboardInterrupt:\n",
    "        sys.stdout.flush()"
   ]
  },
  {
   "cell_type": "code",
   "execution_count": null,
   "metadata": {},
   "outputs": [],
   "source": []
  },
  {
   "cell_type": "code",
   "execution_count": null,
   "metadata": {},
   "outputs": [],
   "source": []
  },
  {
   "cell_type": "code",
   "execution_count": null,
   "metadata": {},
   "outputs": [],
   "source": []
  },
  {
   "cell_type": "code",
   "execution_count": null,
   "metadata": {},
   "outputs": [],
   "source": []
  },
  {
   "cell_type": "code",
   "execution_count": null,
   "metadata": {},
   "outputs": [],
   "source": []
  },
  {
   "cell_type": "code",
   "execution_count": null,
   "metadata": {},
   "outputs": [],
   "source": []
  },
  {
   "cell_type": "code",
   "execution_count": null,
   "metadata": {},
   "outputs": [],
   "source": []
  },
  {
   "cell_type": "code",
   "execution_count": null,
   "metadata": {},
   "outputs": [],
   "source": []
  },
  {
   "cell_type": "code",
   "execution_count": null,
   "metadata": {},
   "outputs": [],
   "source": []
  },
  {
   "cell_type": "code",
   "execution_count": null,
   "metadata": {},
   "outputs": [],
   "source": []
  },
  {
   "cell_type": "code",
   "execution_count": null,
   "metadata": {},
   "outputs": [],
   "source": []
  },
  {
   "cell_type": "code",
   "execution_count": null,
   "metadata": {},
   "outputs": [],
   "source": []
  },
  {
   "cell_type": "code",
   "execution_count": null,
   "metadata": {},
   "outputs": [],
   "source": []
  },
  {
   "cell_type": "code",
   "execution_count": null,
   "metadata": {},
   "outputs": [],
   "source": []
  },
  {
   "cell_type": "code",
   "execution_count": null,
   "metadata": {},
   "outputs": [],
   "source": []
  }
 ],
 "metadata": {
  "kernelspec": {
   "display_name": "Python 3",
   "language": "python",
   "name": "python3"
  },
  "language_info": {
   "codemirror_mode": {
    "name": "ipython",
    "version": 3
   },
   "file_extension": ".py",
   "mimetype": "text/x-python",
   "name": "python",
   "nbconvert_exporter": "python",
   "pygments_lexer": "ipython3",
   "version": "3.6.8"
  }
 },
 "nbformat": 4,
 "nbformat_minor": 4
}
